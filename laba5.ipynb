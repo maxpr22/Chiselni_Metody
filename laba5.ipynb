{
  "nbformat": 4,
  "nbformat_minor": 0,
  "metadata": {
    "colab": {
      "provenance": [],
      "authorship_tag": "ABX9TyO1az2F7tsszbqTBIaDJJfF",
      "include_colab_link": true
    },
    "kernelspec": {
      "name": "python3",
      "display_name": "Python 3"
    },
    "language_info": {
      "name": "python"
    }
  },
  "cells": [
    {
      "cell_type": "markdown",
      "metadata": {
        "id": "view-in-github",
        "colab_type": "text"
      },
      "source": [
        "<a href=\"https://colab.research.google.com/github/maxpr22/Chiselni_Metody/blob/main/laba5.ipynb\" target=\"_parent\"><img src=\"https://colab.research.google.com/assets/colab-badge.svg\" alt=\"Open In Colab\"/></a>"
      ]
    },
    {
      "cell_type": "markdown",
      "source": [
        "#Процюк Максим Ярославович 2 курс 8 група\n",
        "##Лабораторна робота 5\n",
        "###25 варіант"
      ],
      "metadata": {
        "id": "-sjegPVC5SnF"
      }
    },
    {
      "cell_type": "code",
      "source": [
        "import numpy as np\n",
        "from scipy import optimize\n",
        "from scipy.misc import derivative\n",
        "import math\n",
        "x0 = 0.7\n",
        "y0 = -0.2\n",
        "delta = 0.1\n",
        "def f1(x):\n",
        "    return math.sin(x + 0.5) - 1.2\n",
        "def f2(y):\n",
        "    return -math.cos(y - 2)\n",
        "def iter (x,y,e):\n",
        "    xn = x\n",
        "    yn = y\n",
        "    xn1 = f2(x)\n",
        "    yn1 = f1(y)\n",
        "    n = 1\n",
        "    while ((abs(xn1-xn)>=e) & (abs(yn1-yn) >=e)):\n",
        "        xn = xn1\n",
        "        yn = yn1\n",
        "        xn1 = f2(yn)\n",
        "        yn1 = f1(xn)\n",
        "        n += 1\n",
        "    print ('Simple iteration:')\n",
        "    print ('x=', xn, '\\ny=',yn,'\\nThe amount of iteration = ',n)\n",
        "iter(x0,y0,0.0001)\n",
        "def f3(x):\n",
        "    return math.sin(x[0]+0.5)-x[1]-1.2, math.cos(x[1]-2)+x[0]\n",
        "s = optimize.root(f3, [0.,0.], method = 'hybr')\n",
        "print ('Chek',s.x)"
      ],
      "metadata": {
        "colab": {
          "base_uri": "https://localhost:8080/"
        },
        "id": "2EG9yGgn5WIU",
        "outputId": "440bb200-cc07-4308-b21a-391bd90c54ec"
      },
      "execution_count": 1,
      "outputs": [
        {
          "output_type": "stream",
          "name": "stdout",
          "text": [
            "Simple iteration:\n",
            "x= 0.6490804037929836 \n",
            "y= -0.2770429742320708 \n",
            "The amount of iteration =  9\n",
            "Chek [ 0.65513089 -0.28515218]\n"
          ]
        }
      ]
    }
  ]
}