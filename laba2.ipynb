{
  "nbformat": 4,
  "nbformat_minor": 0,
  "metadata": {
    "colab": {
      "provenance": [],
      "authorship_tag": "ABX9TyO2E8g7tpwIuq7L7KKCSX+y",
      "include_colab_link": true
    },
    "kernelspec": {
      "name": "python3",
      "display_name": "Python 3"
    },
    "language_info": {
      "name": "python"
    }
  },
  "cells": [
    {
      "cell_type": "markdown",
      "metadata": {
        "id": "view-in-github",
        "colab_type": "text"
      },
      "source": [
        "<a href=\"https://colab.research.google.com/github/maxpr22/Chiselni_Metody/blob/1/laba2.ipynb\" target=\"_parent\"><img src=\"https://colab.research.google.com/assets/colab-badge.svg\" alt=\"Open In Colab\"/></a>"
      ]
    },
    {
      "cell_type": "markdown",
      "source": [
        "#Процюк Максим Ярославович 2 курс 8 група\n",
        "##Лабораторна робота 2\n",
        "###25 варіант"
      ],
      "metadata": {
        "id": "iubtbLnY5g18"
      }
    },
    {
      "cell_type": "code",
      "source": [
        "import math\n",
        "import numpy as np\n",
        "from scipy.misc import derivative\n",
        "def f(x):\n",
        "   return 6*pow(x, 4) + 3*pow(x,3) - pow(x, 2)  + x - 7\n",
        "eps=0.0001\n",
        "\n",
        "def find_segments(): #відокремлюємо корені\n",
        "    search_range = np.arange(-10, 10, 1)\n",
        "\n",
        "    a = None\n",
        "    previous_x = None\n",
        "    current_x  = None\n",
        "    segments = []\n",
        "\n",
        "    for x in search_range:\n",
        "        x = round(x, 4)\n",
        "        current_x = f(x)\n",
        "        if previous_x != None and previous_x * current_x < 0:\n",
        "            segments.append((a, x))\n",
        "        a = x\n",
        "        previous_x = current_x\n",
        "    return segments\n",
        "\n",
        "segments = find_segments()\n",
        "for a, b in segments:\n",
        "    print(f'Found segment:  [{a}, {b}]')\n",
        "\n",
        "a=0. #початок першого відрізка\n",
        "b=1. # кінець першого відрізка\n"
      ],
      "metadata": {
        "colab": {
          "base_uri": "https://localhost:8080/"
        },
        "id": "-H1_TI-c5i3A",
        "outputId": "fbe05874-3465-4591-b8a8-8b12533a8b08"
      },
      "execution_count": 1,
      "outputs": [
        {
          "output_type": "stream",
          "name": "stdout",
          "text": [
            "Found segment:  [-2, -1]\n",
            "Found segment:  [0, 1]\n"
          ]
        }
      ]
    },
    {
      "cell_type": "code",
      "source": [
        "import math\n",
        "import numpy as np\n",
        "from scipy.misc import derivative\n",
        "def f(x):\n",
        "   return 6*pow(x, 4) + 3*pow(x,3) - pow(x, 2)  + x - 7\n",
        "eps=0.0001\n",
        "\n",
        "def find_segments(): #відокремлюємо корені\n",
        "    search_range = np.arange(-10, 10, 1)\n",
        "\n",
        "    a = None\n",
        "    previous_x = None\n",
        "    current_x  = None\n",
        "    segments = []\n",
        "\n",
        "    for x in search_range:\n",
        "        x = round(x, 4)\n",
        "        current_x = f(x)\n",
        "        if previous_x != None and previous_x * current_x < 0:\n",
        "            segments.append((a, x))\n",
        "        a = x\n",
        "        previous_x = current_x\n",
        "    return segments\n",
        "\n",
        "segments = find_segments()\n",
        "for a, b in segments:\n",
        "    print(f'Found segment:  [{a}, {b}]')\n",
        "def rec(a, b, eps): #метод половинного ділення\n",
        "    while (abs(a-b) > eps):\n",
        "        if f(a)*f((a+b)/2)<0:\n",
        "            b = (a+b)/2\n",
        "        else:\n",
        "            a = (a+b)/2\n",
        "        x = (a+b)/2\n",
        "\n",
        "    print ('x= ', round(x,5), '  -   Half division method')\n",
        "\n",
        "\n",
        "a=0. #початок першого відрізка\n",
        "b=1. # кінець першого відрізка\n",
        "rec (a,b,eps)\n"
      ],
      "metadata": {
        "colab": {
          "base_uri": "https://localhost:8080/"
        },
        "id": "TZy5wOHu6cOe",
        "outputId": "fb0b95f5-e6e8-4565-8236-bfdacdade29b"
      },
      "execution_count": 2,
      "outputs": [
        {
          "output_type": "stream",
          "name": "stdout",
          "text": [
            "Found segment:  [-2, -1]\n",
            "Found segment:  [0, 1]\n",
            "x=  0.9313   -   Half division method\n"
          ]
        }
      ]
    },
    {
      "cell_type": "code",
      "source": [
        "import math\n",
        "import numpy as np\n",
        "from scipy.misc import derivative\n",
        "def f(x):\n",
        "   return 6*pow(x, 4) + 3*pow(x,3) - pow(x, 2)  + x - 7\n",
        "eps=0.0001\n",
        "\n",
        "def find_segments(): #відокремлюємо корені\n",
        "    search_range = np.arange(-10, 10, 1)\n",
        "\n",
        "    a = None\n",
        "    previous_x = None\n",
        "    current_x  = None\n",
        "    segments = []\n",
        "\n",
        "    for x in search_range:\n",
        "        x = round(x, 4)\n",
        "        current_x = f(x)\n",
        "        if previous_x != None and previous_x * current_x < 0:\n",
        "            segments.append((a, x))\n",
        "        a = x\n",
        "        previous_x = current_x\n",
        "    return segments\n",
        "\n",
        "segments = find_segments()\n",
        "for a, b in segments:\n",
        "    print(f'Found segment:  [{a}, {b}]')\n",
        "def hord (a,b,eps): #метод хорд\n",
        "    if (f(a)*derivative(f,a,n=2)>0):\n",
        "        x0=a\n",
        "        xi=b\n",
        "    else:\n",
        "        x0=b\n",
        "        xi=a\n",
        "    xi_1=xi-(xi-x0)*f(xi)/(f(xi)-f(x0))\n",
        "    while (abs(xi_1-xi)>eps):\n",
        "        xi=xi_1\n",
        "        xi_1=xi-(xi-x0)*f(xi)/(f(xi)-f(x0))\n",
        "    print('x= ', round (xi_1,5) , '  -   Chord method')\n",
        "\n",
        "a=0. #початок першого відрізка\n",
        "b=1. # кінець першого відрізка\n",
        "hord (a,b,eps) #викликаємо метод хорд для першого відрізка\n"
      ],
      "metadata": {
        "colab": {
          "base_uri": "https://localhost:8080/"
        },
        "id": "k7o1rtG96kbY",
        "outputId": "bcaeaf6d-5adb-449e-a69e-2aa346693b11"
      },
      "execution_count": 3,
      "outputs": [
        {
          "output_type": "stream",
          "name": "stdout",
          "text": [
            "Found segment:  [-2, -1]\n",
            "Found segment:  [0, 1]\n",
            "x=  0.93127   -   Chord method\n"
          ]
        },
        {
          "output_type": "stream",
          "name": "stderr",
          "text": [
            "<ipython-input-3-d76fbe8c1ec2>:29: DeprecationWarning: scipy.misc.derivative is deprecated in SciPy v1.10.0; and will be completely removed in SciPy v1.12.0. You may consider using findiff: https://github.com/maroba/findiff or numdifftools: https://github.com/pbrod/numdifftools\n",
            "  if (f(a)*derivative(f,a,n=2)>0):\n"
          ]
        }
      ]
    }
  ]
}