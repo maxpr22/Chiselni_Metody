{
  "nbformat": 4,
  "nbformat_minor": 0,
  "metadata": {
    "colab": {
      "provenance": [],
      "authorship_tag": "ABX9TyN8Ifb26YzUTlTVWgkTxFoo",
      "include_colab_link": true
    },
    "kernelspec": {
      "name": "python3",
      "display_name": "Python 3"
    },
    "language_info": {
      "name": "python"
    }
  },
  "cells": [
    {
      "cell_type": "markdown",
      "metadata": {
        "id": "view-in-github",
        "colab_type": "text"
      },
      "source": [
        "<a href=\"https://colab.research.google.com/github/maxpr22/Chiselni_Metody/blob/1/laba3.ipynb\" target=\"_parent\"><img src=\"https://colab.research.google.com/assets/colab-badge.svg\" alt=\"Open In Colab\"/></a>"
      ]
    },
    {
      "cell_type": "markdown",
      "source": [
        "#Лабораторна робота 3\n",
        "##Процюк Максим Ярославович ФІТ 2-8\n",
        "###Варіант 25"
      ],
      "metadata": {
        "id": "CHG-ZZpWt7aq"
      }
    },
    {
      "cell_type": "code",
      "source": [
        "import numpy as np\n",
        "import math\n",
        "from scipy.misc import derivative\n",
        "def f(x):\n",
        "    return 6*pow(x, 4) + 3*pow(x,3) - pow(x, 2)  + x - 7\n",
        "\n",
        "eps = 0.001 #точність\n",
        "\n",
        "def nuton(a,b,eps):\n",
        "    df2 = derivative(f, b, n = 2)\n",
        "    if (f(b)*df2>0):\n",
        "        xi = b\n",
        "    else:\n",
        "        xi = a\n",
        "    df = derivative(f,xi, n= 1)\n",
        "    xi_1 = xi - f(xi)/df\n",
        "    while (abs(xi_1 - xi)>eps): #accuracy check\n",
        "        xi = xi_1\n",
        "        xi_1 = xi - f(xi)/df\n",
        "    return print ('Solving the equation by Newton*s method x = ', xi_1)\n",
        "nuton (-2,-1,eps)\n",
        "nuton (0,1,eps)\n"
      ],
      "metadata": {
        "colab": {
          "base_uri": "https://localhost:8080/"
        },
        "id": "RMaxsnNGuLck",
        "outputId": "ded5b09b-35c3-4b15-cbee-303d8b29bae6"
      },
      "execution_count": 1,
      "outputs": [
        {
          "output_type": "stream",
          "name": "stdout",
          "text": [
            "Solving the equation by Newton*s method x =  -1.2874864287413317\n",
            "Solving the equation by Newton*s method x =  0.9321940561317094\n"
          ]
        },
        {
          "output_type": "stream",
          "name": "stderr",
          "text": [
            "<ipython-input-1-5920bf54cbe2>:10: DeprecationWarning: scipy.misc.derivative is deprecated in SciPy v1.10.0; and will be completely removed in SciPy v1.12.0. You may consider using findiff: https://github.com/maroba/findiff or numdifftools: https://github.com/pbrod/numdifftools\n",
            "  df2 = derivative(f, b, n = 2)\n",
            "<ipython-input-1-5920bf54cbe2>:15: DeprecationWarning: scipy.misc.derivative is deprecated in SciPy v1.10.0; and will be completely removed in SciPy v1.12.0. You may consider using findiff: https://github.com/maroba/findiff or numdifftools: https://github.com/pbrod/numdifftools\n",
            "  df = derivative(f,xi, n= 1)\n"
          ]
        }
      ]
    },
    {
      "cell_type": "code",
      "source": [
        "import numpy as np\n",
        "import math\n",
        "from scipy.misc import derivative\n",
        "def f(x):\n",
        "    return 6*pow(x, 4) + 3*pow(x,3) - pow(x, 2)  + x - 7\n",
        "\n",
        "def komb(a,b,eps):\n",
        "    if (derivative(f, a, n = 1)*derivative(f, a, n = 2)>0):\n",
        "        a0 = a\n",
        "        b0 = b\n",
        "\n",
        "    else:\n",
        "        a0 = b\n",
        "        b0 = a\n",
        "    ai = a0\n",
        "    bi = b0\n",
        "    while abs(ai-bi)>eps:\n",
        "        ai_1 = ai -f(ai)*(bi - ai)/(f(bi) - f(ai))\n",
        "        bi_1 = bi - f(bi)/derivative(f,bi, n= 1)\n",
        "        ai = ai_1\n",
        "        bi = bi_1\n",
        "    x = (ai_1+bi_1)/2\n",
        "\n",
        "    return print('Solving the equation by the combined method x = ', x)\n",
        "komb(-2,-1,0.0001)\n",
        "komb(0,1,0.0001)\n"
      ],
      "metadata": {
        "colab": {
          "base_uri": "https://localhost:8080/"
        },
        "id": "GnEzUSsauQiv",
        "outputId": "05fc9c71-3928-4a3f-df11-9e3e00c97733"
      },
      "execution_count": 2,
      "outputs": [
        {
          "output_type": "stream",
          "name": "stdout",
          "text": [
            "Solving the equation by the combined method x =  -1.2832530536808575\n",
            "Solving the equation by the combined method x =  0.9313051294108803\n"
          ]
        },
        {
          "output_type": "stream",
          "name": "stderr",
          "text": [
            "<ipython-input-2-e37585ffc2a0>:8: DeprecationWarning: scipy.misc.derivative is deprecated in SciPy v1.10.0; and will be completely removed in SciPy v1.12.0. You may consider using findiff: https://github.com/maroba/findiff or numdifftools: https://github.com/pbrod/numdifftools\n",
            "  if (derivative(f, a, n = 1)*derivative(f, a, n = 2)>0):\n",
            "<ipython-input-2-e37585ffc2a0>:19: DeprecationWarning: scipy.misc.derivative is deprecated in SciPy v1.10.0; and will be completely removed in SciPy v1.12.0. You may consider using findiff: https://github.com/maroba/findiff or numdifftools: https://github.com/pbrod/numdifftools\n",
            "  bi_1 = bi - f(bi)/derivative(f,bi, n= 1)\n"
          ]
        }
      ]
    }
  ]
}