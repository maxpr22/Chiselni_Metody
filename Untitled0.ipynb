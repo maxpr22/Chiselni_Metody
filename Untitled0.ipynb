{
  "nbformat": 4,
  "nbformat_minor": 0,
  "metadata": {
    "colab": {
      "provenance": [],
      "authorship_tag": "ABX9TyNSikd+fLDu/7qkicFzWFLd",
      "include_colab_link": true
    },
    "kernelspec": {
      "name": "python3",
      "display_name": "Python 3"
    },
    "language_info": {
      "name": "python"
    }
  },
  "cells": [
    {
      "cell_type": "markdown",
      "metadata": {
        "id": "view-in-github",
        "colab_type": "text"
      },
      "source": [
        "<a href=\"https://colab.research.google.com/github/maxpr22/Chiselni_Metody/blob/1/Untitled0.ipynb\" target=\"_parent\"><img src=\"https://colab.research.google.com/assets/colab-badge.svg\" alt=\"Open In Colab\"/></a>"
      ]
    },
    {
      "cell_type": "markdown",
      "source": [
        "#Процюк Максим\n",
        "##Варіант 25\n",
        "###Лабораторна робота 1\n",
        "Завдання 1) Визначити яка рівність точніша ![photo_2024-08-11_17-48-46.jpg](data:image/jpeg;base64,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)\n",
        "\n"
      ],
      "metadata": {
        "id": "wTBw1fP0vDjh"
      }
    },
    {
      "cell_type": "code",
      "source": [
        "import numpy as np\n",
        "\n",
        "def f(x, y):\n",
        "    return np.abs(x - y) / np.abs(x)\n",
        "\n",
        "def main():\n",
        "    x1 = np.sqrt(65)  # Точне значення sqrt(65)\n",
        "    x2 = 12 / 7  # Точне значення 12/7\n",
        "    x1_1 = 8.06  # Наближене значення sqrt(65)\n",
        "    x2_2 = 1.71  # Наближене значення 12/7\n",
        "\n",
        "    rel_error_x1 = f(x1, x1_1)\n",
        "    rel_error_x2 = f(x2, x2_2)\n",
        "\n",
        "    if rel_error_x1 < rel_error_x2:\n",
        "        print(\"Перша рівність точніше з відносною похибкою:\", round(rel_error_x1, 5))\n",
        "    elif rel_error_x2 < rel_error_x1:\n",
        "        print(\"Друга рівність точніше з відносною похибкою:\", round(rel_error_x2, 5))\n",
        "    else:\n",
        "        print(\"Обидві рівності мають однакову точність з відносною похибкою:\", round(rel_error_x2, 5))\n",
        "\n",
        "if __name__ == \"__main__\":\n",
        "    main()"
      ],
      "metadata": {
        "colab": {
          "base_uri": "https://localhost:8080/"
        },
        "id": "oZ7fxLFUvf05",
        "outputId": "0d87401b-fea3-4d71-cd39-6d237d691aeb"
      },
      "execution_count": 1,
      "outputs": [
        {
          "output_type": "stream",
          "name": "stdout",
          "text": [
            "Перша рівність точніше з відносною похибкою: 0.00028\n"
          ]
        }
      ]
    }
  ]
}