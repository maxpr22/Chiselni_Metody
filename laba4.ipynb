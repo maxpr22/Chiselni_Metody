{
  "nbformat": 4,
  "nbformat_minor": 0,
  "metadata": {
    "colab": {
      "provenance": [],
      "authorship_tag": "ABX9TyNF3fM4xbv7M0/ZVMZTAMHv",
      "include_colab_link": true
    },
    "kernelspec": {
      "name": "python3",
      "display_name": "Python 3"
    },
    "language_info": {
      "name": "python"
    }
  },
  "cells": [
    {
      "cell_type": "markdown",
      "metadata": {
        "id": "view-in-github",
        "colab_type": "text"
      },
      "source": [
        "<a href=\"https://colab.research.google.com/github/maxpr22/Chiselni_Metody/blob/main/laba4.ipynb\" target=\"_parent\"><img src=\"https://colab.research.google.com/assets/colab-badge.svg\" alt=\"Open In Colab\"/></a>"
      ]
    },
    {
      "cell_type": "markdown",
      "source": [
        "#Процюк Максим Ярославович 2 курс 8 група\n",
        "##Лабораторна робота 4\n",
        "###25 варіант"
      ],
      "metadata": {
        "id": "pok4cvO6zNwS"
      }
    },
    {
      "cell_type": "code",
      "source": [
        "import numpy as np\n",
        "a_arr = np.array([[2, 3, 1], [-1, 1, 0], [1, 2, -1]])\n",
        "b_arr = np.array([[1, 2, 1], [0, 1, 2], [3, 1, 1]])\n",
        "c = b_arr.dot(a_arr) + a_arr.dot(b_arr)\n",
        "\n",
        "print(c)\n"
      ],
      "metadata": {
        "colab": {
          "base_uri": "https://localhost:8080/"
        },
        "id": "Ho4iQ4zlzZCI",
        "outputId": "31adbd71-facc-47f8-e882-0d4e434ea56c"
      },
      "execution_count": 1,
      "outputs": [
        {
          "output_type": "stream",
          "name": "stdout",
          "text": [
            "[[ 6 15  9]\n",
            " [ 0  4 -1]\n",
            " [ 4 15  6]]\n"
          ]
        }
      ]
    },
    {
      "cell_type": "code",
      "source": [
        "import numpy as np\n",
        "arr = np.array([[-1, 2], [0, 1],])\n",
        "power= np.dot(arr,arr)\n",
        "print(power)\n"
      ],
      "metadata": {
        "colab": {
          "base_uri": "https://localhost:8080/"
        },
        "id": "81sA3gq5zjIk",
        "outputId": "66d167b7-b53c-4a70-e1c2-0cf0479c9811"
      },
      "execution_count": 2,
      "outputs": [
        {
          "output_type": "stream",
          "name": "stdout",
          "text": [
            "[[1 0]\n",
            " [0 1]]\n"
          ]
        }
      ]
    },
    {
      "cell_type": "code",
      "source": [
        "import numpy as np\n",
        "matrix_1 = np.array([[5, 8 , -4], [6 , 9 , -5], [4, 7, -3]])\n",
        "matrix_2 = np.array([[3, 2, 5], [4, -1,3] , [9 ,6 ,5]])\n",
        "matrix_3 = matrix_1.dot(matrix_2)\n",
        "print(matrix_3)\n"
      ],
      "metadata": {
        "colab": {
          "base_uri": "https://localhost:8080/"
        },
        "id": "X8bL6M-mzlbe",
        "outputId": "b26b4332-422f-42ff-b482-949f06edaec3"
      },
      "execution_count": 3,
      "outputs": [
        {
          "output_type": "stream",
          "name": "stdout",
          "text": [
            "[[ 11 -22  29]\n",
            " [  9 -27  32]\n",
            " [ 13 -17  26]]\n"
          ]
        }
      ]
    },
    {
      "cell_type": "code",
      "source": [
        "import numpy as np\n",
        "arr_a = np.array([[2, 4, 5], [1, 1, 2], [2, 4, 3]])\n",
        "a_det = np.linalg.det(arr_a)\n",
        "print(format(a_det,'.9g'))\n"
      ],
      "metadata": {
        "colab": {
          "base_uri": "https://localhost:8080/"
        },
        "id": "7ii-Hd8azoNZ",
        "outputId": "47917052-268e-4b0d-fe46-9f1860c2acc1"
      },
      "execution_count": 4,
      "outputs": [
        {
          "output_type": "stream",
          "name": "stdout",
          "text": [
            "4\n"
          ]
        }
      ]
    },
    {
      "cell_type": "code",
      "source": [
        "import numpy as np\n",
        "a_arr = np.array([[1, 2, 0,0,0], [1, 0, 2, 0,0], [1, 0, 0, 2,0], [1, 0, 0, 0,2],[0,0,1,1,1]])\n",
        "a_det = np.linalg.det(a_arr)\n",
        "print(format(a_det,'.9g'))\n"
      ],
      "metadata": {
        "colab": {
          "base_uri": "https://localhost:8080/"
        },
        "id": "tyC9Bk6AzqTc",
        "outputId": "9b55fe3d-f030-495d-be56-7d122f5048f3"
      },
      "execution_count": 5,
      "outputs": [
        {
          "output_type": "stream",
          "name": "stdout",
          "text": [
            "-24\n"
          ]
        }
      ]
    },
    {
      "cell_type": "code",
      "source": [
        "a = np.array([[1, 2, 2], [2, 1, -2], [2, -2, 1]])\n",
        "a_inv = np.linalg.inv(a)\n",
        "print(a_inv)\n"
      ],
      "metadata": {
        "colab": {
          "base_uri": "https://localhost:8080/"
        },
        "id": "UvPW1VQyzsQJ",
        "outputId": "47304695-1d66-4b96-8a74-f4bc6ac810c6"
      },
      "execution_count": 6,
      "outputs": [
        {
          "output_type": "stream",
          "name": "stdout",
          "text": [
            "[[ 0.11111111  0.22222222  0.22222222]\n",
            " [ 0.22222222  0.11111111 -0.22222222]\n",
            " [ 0.22222222 -0.22222222  0.11111111]]\n"
          ]
        }
      ]
    },
    {
      "cell_type": "code",
      "source": [
        "aa = np.array([[1, 2, 3,4], [3, -1, 2, 5], [1, 2, 3, 4], [1, 3, 4, 5]])\n",
        "rank = np.linalg.matrix_rank(aa)\n",
        "print(rank)\n"
      ],
      "metadata": {
        "colab": {
          "base_uri": "https://localhost:8080/"
        },
        "id": "WS_aqUhlzvIt",
        "outputId": "65abb38d-de48-4ec8-825f-35a2e4c7e338"
      },
      "execution_count": 7,
      "outputs": [
        {
          "output_type": "stream",
          "name": "stdout",
          "text": [
            "2\n"
          ]
        }
      ]
    },
    {
      "cell_type": "code",
      "source": [
        "A = np.matrix('3 -5 3; 1 2 1; 2 7 -1')\n",
        "B = np.matrix('1; 4; 8')\n",
        "print('A=', A)\n",
        "print('B=',B)\n",
        "A_inv = np.linalg.inv(A)\n",
        "print(A_inv)\n",
        "X = A_inv.dot(B)\n",
        "print('X=',X)\n"
      ],
      "metadata": {
        "colab": {
          "base_uri": "https://localhost:8080/"
        },
        "id": "1UIC2mjAz1hu",
        "outputId": "06ee3b80-e1cb-45c0-cd32-2e2c6b5faa54"
      },
      "execution_count": 8,
      "outputs": [
        {
          "output_type": "stream",
          "name": "stdout",
          "text": [
            "A= [[ 3 -5  3]\n",
            " [ 1  2  1]\n",
            " [ 2  7 -1]]\n",
            "B= [[1]\n",
            " [4]\n",
            " [8]]\n",
            "[[ 0.27272727 -0.48484848  0.33333333]\n",
            " [-0.09090909  0.27272727  0.        ]\n",
            " [-0.09090909  0.93939394 -0.33333333]]\n",
            "X= [[1.]\n",
            " [1.]\n",
            " [1.]]\n"
          ]
        }
      ]
    },
    {
      "cell_type": "code",
      "source": [
        "import numpy as np\n",
        "\n",
        "a = np.matrix('3 -5 3; 1 2 1; 2 7 -1')\n",
        "b = np.matrix('1; 4; 8')\n",
        "def kram(a,b):\n",
        "    det_a = np.linalg.det(a)\n",
        "    if det_a != 0:\n",
        "       a1 = np.matrix(a)\n",
        "       a2 = np.matrix(a)\n",
        "       a3 = np.matrix(a)\n",
        "       a1[:, 0] = b\n",
        "       a2[:, 1] = b\n",
        "       a3[:, 2] = b\n",
        "       x = np.linalg.det(a1)/det_a\n",
        "       y =np.linalg.det(a2)/det_a\n",
        "       z= np.linalg.det(a3)/det_a\n",
        "       print('Solving a system of linear algebraic equations by Cramer*s method')\n",
        "       print('x=',x.round(3),'y=',y.round(3),'z=',z.round(3))\n",
        "    else:\n",
        "        print('Determinant equals zero, the system has no solutions')\n",
        "    return x,y,z\n",
        "kram(a,b)\n",
        "print('Checking the correctness of the solution\\n', np.linalg.solve(a,b).round(3))\n"
      ],
      "metadata": {
        "colab": {
          "base_uri": "https://localhost:8080/"
        },
        "id": "8Hg8V99D0AlE",
        "outputId": "8fb9affe-e94c-4012-b225-e7d15c41e200"
      },
      "execution_count": 9,
      "outputs": [
        {
          "output_type": "stream",
          "name": "stdout",
          "text": [
            "Solving a system of linear algebraic equations by Cramer*s method\n",
            "x= 1.0 y= 1.0 z= 1.0\n",
            "Checking the correctness of the solution\n",
            " [[1.]\n",
            " [1.]\n",
            " [1.]]\n"
          ]
        }
      ]
    },
    {
      "cell_type": "code",
      "source": [
        "import numpy as np\n",
        "\n",
        "a = np.array(np.random.randint(0, 5, size=(5, 3)))\n",
        "\n",
        "average_rows = np.mean(a, axis=1)\n",
        "average_columns = np.mean(a, axis=0)\n",
        "minimum_average_row = np.min(average_rows)\n",
        "\n",
        "print(a)\n",
        "print(f\"Середні значення рядків: {average_rows}\")\n",
        "print(f\"Середні значення стовпців: {average_columns}\")\n",
        "print(f\"Найнижче середнє значення серед рядків: {minimum_average_row}\")\n",
        "\n"
      ],
      "metadata": {
        "colab": {
          "base_uri": "https://localhost:8080/"
        },
        "id": "N1RTaVk30Ds1",
        "outputId": "333f2026-b2f9-4a8a-a88e-d5ef3b00e84d"
      },
      "execution_count": 11,
      "outputs": [
        {
          "output_type": "stream",
          "name": "stdout",
          "text": [
            "[[0 0 0]\n",
            " [4 4 1]\n",
            " [4 0 3]\n",
            " [1 2 4]\n",
            " [4 0 3]]\n",
            "Середні значення рядків: [0.         3.         2.33333333 2.33333333 2.33333333]\n",
            "Середні значення стовпців: [2.6 1.2 2.2]\n",
            "Найнижче середнє значення серед рядків: 0.0\n"
          ]
        }
      ]
    }
  ]
}