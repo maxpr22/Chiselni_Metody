{
  "nbformat": 4,
  "nbformat_minor": 0,
  "metadata": {
    "colab": {
      "provenance": [],
      "authorship_tag": "ABX9TyOSEpKQsUyKrKl95niBGSyz",
      "include_colab_link": true
    },
    "kernelspec": {
      "name": "python3",
      "display_name": "Python 3"
    },
    "language_info": {
      "name": "python"
    }
  },
  "cells": [
    {
      "cell_type": "markdown",
      "metadata": {
        "id": "view-in-github",
        "colab_type": "text"
      },
      "source": [
        "<a href=\"https://colab.research.google.com/github/maxpr22/Chiselni_Metody/blob/main/laba12.ipynb\" target=\"_parent\"><img src=\"https://colab.research.google.com/assets/colab-badge.svg\" alt=\"Open In Colab\"/></a>"
      ]
    },
    {
      "cell_type": "markdown",
      "source": [
        "#Процюк Максим Ярославович 2 курс 8 група\n",
        "##Лабораторна робота 12\n",
        "###25 варіант"
      ],
      "metadata": {
        "id": "yLbTvDzXSjML"
      }
    },
    {
      "cell_type": "markdown",
      "source": [
        "#Метод прямокутників\n"
      ],
      "metadata": {
        "id": "31M-BZMrSnxI"
      }
    },
    {
      "cell_type": "code",
      "execution_count": 11,
      "metadata": {
        "colab": {
          "base_uri": "https://localhost:8080/"
        },
        "id": "LwmPiGqQSdZo",
        "outputId": "0bbfbbc9-e625-447d-8f21-e407e0449410"
      },
      "outputs": [
        {
          "output_type": "stream",
          "name": "stdout",
          "text": [
            "left rectangle: 0.76233\n",
            "right rectangle: 0.8149\n",
            "average rectangle: 0.57346\n",
            "Check for the rectangle method=  0.78881\n"
          ]
        }
      ],
      "source": [
        "#Обчислення інтеграла методом прямокутників\n",
        "from scipy import integrate\n",
        "import numpy as np\n",
        "\n",
        "a = 0.6\n",
        "b = 1.6\n",
        "n = 10\n",
        "def f1(x):\n",
        "    return x/np.sqrt(x + 0.8)\n",
        "\n",
        "def left_rec(f1,a,b,n):\n",
        "    h=(b-a)/n\n",
        "    sum=0\n",
        "    for i in range(0,n):\n",
        "        sum+=f1(a+i*h)\n",
        "    return sum*h\n",
        "print(\"left rectangle:\",round (left_rec(f1,a,b,10), 5))\n",
        "\n",
        "def right_rec(f1,a,b,n):\n",
        "    h=(b-a)/n\n",
        "    sum=0\n",
        "    for i in range(1,n+1):\n",
        "        sum+=f1(a+i*h)\n",
        "    return sum*h\n",
        "print(\"right rectangle:\",round (right_rec(f1,a,b,10), 5))\n",
        "\n",
        "def aver_rec(f1,a,b,n):\n",
        "    h=0.08\n",
        "    sum=0\n",
        "    for i in range(0,n):\n",
        "        sum+=f1(a+i*h)\n",
        "    return sum*h\n",
        "print(\"average rectangle:\",round (aver_rec(f1,a,b,10), 5))\n",
        "\n",
        "v,err = integrate.quad(f1,a,b)#Перевірка\n",
        "print(\"Check for the rectangle method= \",round (v, 5))"
      ]
    },
    {
      "cell_type": "markdown",
      "source": [
        "#Метод Сімпсона"
      ],
      "metadata": {
        "id": "QuvdfeTZS-d8"
      }
    },
    {
      "cell_type": "code",
      "source": [
        "from scipy import integrate\n",
        "import numpy as np\n",
        "\n",
        "# Задаємо функцію, яку необхідно інтегрувати\n",
        "def f(x):\n",
        "    return np.log10((x**2 + 1)/(2*x - 1))\n",
        "\n",
        "# Задаємо межі інтегрування та початкову кількість розбиттів\n",
        "a = 1.2\n",
        "b = 2.8\n",
        "n = 8\n",
        "\n",
        "# Обчислюємо значення інтегралу методом Симпсона\n",
        "def simpson_rule(f, a, b, n):\n",
        "    h = (b - a) / n\n",
        "    integr = f(a) + f(b)\n",
        "    for i in range(1,n):\n",
        "        k = a + i*h\n",
        "        if i%2 == 0:\n",
        "            integr += 2 * f(k)\n",
        "        else:\n",
        "            integr += 4 * f(k)\n",
        "    integr *= h/3\n",
        "    return integr\n",
        "\n",
        "# Обчислюємо значення інтегралу методом Сімпсона з точністю 0.001\n",
        "integral1 = simpson_rule(f, a, b, n)\n",
        "n *= 2\n",
        "integral2 = simpson_rule(f, a, b, n)\n",
        "while abs(integral2 - integral1) / 15 > 0.001:\n",
        "    integral1 = integral2\n",
        "    n *= 2\n",
        "    integral2 = simpson_rule(f, a, b, n)\n",
        "# Виводимо результат\n",
        "print(\"Simpsone method:\", round(integral2, 3))\n",
        "\n",
        "v,err = integrate.quad(f,a,b)#Перевірка\n",
        "print(\"Check for the simpsone method= \",round(v, 3))"
      ],
      "metadata": {
        "colab": {
          "base_uri": "https://localhost:8080/"
        },
        "id": "vBs8QiJeTDUz",
        "outputId": "f318ec76-9825-4fca-f3ea-e4a1e76cc6d9"
      },
      "execution_count": 2,
      "outputs": [
        {
          "output_type": "stream",
          "name": "stdout",
          "text": [
            "Simpsone method: 0.374\n",
            "Check for the simpsone method=  0.374\n"
          ]
        }
      ]
    },
    {
      "cell_type": "markdown",
      "source": [
        "#Метод Трапецій"
      ],
      "metadata": {
        "id": "I8Cj0QDfTHrS"
      }
    },
    {
      "cell_type": "code",
      "source": [
        "from scipy import integrate\n",
        "import numpy as np\n",
        "\n",
        "# Задаємо функцію, яку необхідно інтегрувати\n",
        "def f(x):\n",
        "    return x / np.sqrt(2 + 0.5 * x**2)\n",
        "\n",
        "# Задаємо межі інтегрування та початкову кількість розбиттів\n",
        "a = 0.4\n",
        "b = 1.2\n",
        "n = 20\n",
        "\n",
        "# Обчислюємо значення інтегралу методом трапецій\n",
        "def trapezoidal_rule(f, a, b, n):\n",
        "    h = (b - a) / n\n",
        "    sum = f(a) + f(b)  # Додаємо перше і останнє значення\n",
        "    x = a\n",
        "\n",
        "    for i in range(1, n):\n",
        "        x += h\n",
        "        sum += 2 * f(x)\n",
        "\n",
        "    integral = (h / 2) * sum\n",
        "    return integral\n",
        "\n",
        "# Виводимо результат методу трапецій\n",
        "integral_trap = trapezoidal_rule(f, a, b, n)\n",
        "print(\"Результат методу трапецій:\", round(integral_trap, 3))\n",
        "\n",
        "# Перевірка результату за допомогою методу scipy.quad\n",
        "v, err = integrate.quad(f, a, b)\n",
        "print(\"Результат scipy.quad для перевірки:\", round(v, 5))\n"
      ],
      "metadata": {
        "colab": {
          "base_uri": "https://localhost:8080/"
        },
        "id": "P9QxWx0kTL0j",
        "outputId": "b0fb4fa1-94e5-4a32-ad05-e65a64b0d4dc"
      },
      "execution_count": 12,
      "outputs": [
        {
          "output_type": "stream",
          "name": "stdout",
          "text": [
            "Результат методу трапецій: 0.414\n",
            "Результат scipy.quad для перевірки: 0.41404\n"
          ]
        }
      ]
    }
  ]
}